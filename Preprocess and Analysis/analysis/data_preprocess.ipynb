{
 "cells": [
  {
   "cell_type": "markdown",
   "metadata": {},
   "source": [
    "# MLP2"
   ]
  },
  {
   "cell_type": "markdown",
   "metadata": {},
   "source": [
    "- __Data Preprocessing__"
   ]
  },
  {
   "cell_type": "code",
   "execution_count": 62,
   "metadata": {},
   "outputs": [],
   "source": [
    "\n",
    "import numpy as np\n",
    "import pandas as pd\n",
    "from sklearn.impute import SimpleImputer"
   ]
  },
  {
   "cell_type": "code",
   "execution_count": 63,
   "metadata": {},
   "outputs": [
    {
     "name": "stdout",
     "output_type": "stream",
     "text": [
      "   0    1            2    3    4     5            6    7      8     9   ...  \\\n",
      "0   3    ?  alfa-romero  gas  std   two  convertible  rwd  front  88.6  ...   \n",
      "1   3    ?  alfa-romero  gas  std   two  convertible  rwd  front  88.6  ...   \n",
      "2   1    ?  alfa-romero  gas  std   two    hatchback  rwd  front  94.5  ...   \n",
      "3   2  164         audi  gas  std  four        sedan  fwd  front  99.8  ...   \n",
      "4   2  164         audi  gas  std  four        sedan  4wd  front  99.4  ...   \n",
      "\n",
      "    16    17    18    19    20   21    22  23  24     25  \n",
      "0  130  mpfi  3.47  2.68   9.0  111  5000  21  27  13495  \n",
      "1  130  mpfi  3.47  2.68   9.0  111  5000  21  27  16500  \n",
      "2  152  mpfi  2.68  3.47   9.0  154  5000  19  26  16500  \n",
      "3  109  mpfi  3.19  3.40  10.0  102  5500  24  30  13950  \n",
      "4  136  mpfi  3.19  3.40   8.0  115  5500  18  22  17450  \n",
      "\n",
      "[5 rows x 26 columns]\n",
      "     0   1      2       3      4     5      6    7      8      9   ...   16  \\\n",
      "196  -1  95  volvo     gas    std  four  sedan  rwd  front  109.1  ...  141   \n",
      "197  -1  95  volvo     gas  turbo  four  sedan  rwd  front  109.1  ...  141   \n",
      "198  -1  95  volvo     gas    std  four  sedan  rwd  front  109.1  ...  173   \n",
      "199  -1  95  volvo  diesel  turbo  four  sedan  rwd  front  109.1  ...  145   \n",
      "200  -1  95  volvo     gas  turbo  four  sedan  rwd  front  109.1  ...  141   \n",
      "\n",
      "       17    18    19    20   21    22  23  24     25  \n",
      "196  mpfi  3.78  3.15   9.5  114  5400  23  28  16845  \n",
      "197  mpfi  3.78  3.15   8.7  160  5300  19  25  19045  \n",
      "198  mpfi  3.58  2.87   8.8  134  5500  18  23  21485  \n",
      "199   idi  3.01  3.40  23.0  106  4800  26  27  22470  \n",
      "200  mpfi  3.78  3.15   9.5  114  5400  19  25  22625  \n",
      "\n",
      "[5 rows x 26 columns]\n"
     ]
    }
   ],
   "source": [
    "# Load data\n",
    "auto_imports = pd.read_csv(\"../rawdata/auto_imports.csv\", header=None)\n",
    "print(auto_imports.head())\n",
    "print(auto_imports.tail())"
   ]
  },
  {
   "cell_type": "code",
   "execution_count": 64,
   "metadata": {},
   "outputs": [
    {
     "name": "stdout",
     "output_type": "stream",
     "text": [
      "0      0\n",
      "1     37\n",
      "2      0\n",
      "3      0\n",
      "4      0\n",
      "5      2\n",
      "6      0\n",
      "7      0\n",
      "8      0\n",
      "9      0\n",
      "10     0\n",
      "11     0\n",
      "12     0\n",
      "13     0\n",
      "14     0\n",
      "15     0\n",
      "16     0\n",
      "17     0\n",
      "18     4\n",
      "19     4\n",
      "20     0\n",
      "21     2\n",
      "22     2\n",
      "23     0\n",
      "24     0\n",
      "25     0\n",
      "dtype: int64\n"
     ]
    }
   ],
   "source": [
    "# Handling missing data with ? value\n",
    "auto_imports[[0,1,2,3,4,5,6,7,8,9,10,11,12,13,14,15,16,17,18,19,20,21,22,23,24,25]] = auto_imports[[0,1,2,3,4,5,6,7,8,9,10,11,12,13,14,15,16,17,18,19,20,21,22,23,24,25]].replace('?', np.NaN)\n",
    "\n",
    "# Total number of NaN values in each column\n",
    "print(auto_imports.isnull().sum())"
   ]
  },
  {
   "cell_type": "code",
   "execution_count": 65,
   "metadata": {},
   "outputs": [],
   "source": [
    "# Handling non-numerical values - columns 2,14 (make and engine-type)\n",
    "auto_imports_strings = auto_imports.copy()\n",
    "auto_imports_strings = auto_imports_strings[[2,3,4,5,6,7,8,14,15,17]]\n",
    "auto_imports_strings = auto_imports_strings.apply(lambda x: pd.factorize(x)[0]+1)"
   ]
  },
  {
   "cell_type": "code",
   "execution_count": 66,
   "metadata": {},
   "outputs": [
    {
     "name": "stdout",
     "output_type": "stream",
     "text": [
      "0\n"
     ]
    }
   ],
   "source": [
    "# Temporarily dropping columns with scaled categorical numeric values to normalize data\n",
    "temp_drop_cols = [2,3,4,5,6,7,8,14,15,17]\n",
    "auto_imports.drop(auto_imports.columns[temp_drop_cols],axis=1,inplace=True)\n",
    "\n",
    "# Fill missing values with mean column values\n",
    "values = auto_imports.values\n",
    "imputer = SimpleImputer()\n",
    "transformed_values = imputer.fit_transform(values)\n",
    "\n",
    "# Count the number of NaN values in each column\n",
    "print(np.isnan(transformed_values).sum())"
   ]
  },
  {
   "cell_type": "code",
   "execution_count": 67,
   "metadata": {},
   "outputs": [],
   "source": [
    "# Make a new dataframe for the transformed values\n",
    "new_data = pd.DataFrame(transformed_values, columns = [\"symboling\", \"normalized-losses\",\"wheel-base\", \"length\", \"width\", \"height\", \"curb-weight\", \"engine-size\", \"bore\", \"stroke\", \"compression-ratio\", \"horsepower\", \"peak-rpm\", \"city-mpg\", \"highway-mpg\",\"price\"])"
   ]
  },
  {
   "cell_type": "code",
   "execution_count": 68,
   "metadata": {},
   "outputs": [
    {
     "name": "stdout",
     "output_type": "stream",
     "text": [
      "   symboling  normalized-losses  wheel-base  length  width  height  \\\n",
      "0        3.0              122.0        88.6   168.8   64.1    48.8   \n",
      "1        3.0              122.0        88.6   168.8   64.1    48.8   \n",
      "2        1.0              122.0        94.5   171.2   65.5    52.4   \n",
      "3        2.0              164.0        99.8   176.6   66.2    54.3   \n",
      "4        2.0              164.0        99.4   176.6   66.4    54.3   \n",
      "\n",
      "   curb-weight  engine-size  bore  stroke  ...  make  fuel-type  aspiration  \\\n",
      "0       2548.0        130.0  3.47    2.68  ...     1          1           1   \n",
      "1       2548.0        130.0  3.47    2.68  ...     1          1           1   \n",
      "2       2823.0        152.0  2.68    3.47  ...     1          1           1   \n",
      "3       2337.0        109.0  3.19    3.40  ...     2          1           1   \n",
      "4       2824.0        136.0  3.19    3.40  ...     2          1           1   \n",
      "\n",
      "   num-of-doors  body-style  drive-wheels  engine-location  engine-type  \\\n",
      "0             1           1             1                1            1   \n",
      "1             1           1             1                1            1   \n",
      "2             1           2             1                1            2   \n",
      "3             2           3             2                1            3   \n",
      "4             2           3             3                1            3   \n",
      "\n",
      "   num-of-cylinders  fuel-system  \n",
      "0                 1            1  \n",
      "1                 1            1  \n",
      "2                 2            1  \n",
      "3                 1            1  \n",
      "4                 3            1  \n",
      "\n",
      "[5 rows x 26 columns]\n"
     ]
    }
   ],
   "source": [
    "# Add back numerical values of categorical types\n",
    "new_data[\"make\"] = auto_imports_strings[2]\n",
    "new_data[\"fuel-type\"] = auto_imports_strings[3]\n",
    "new_data[\"aspiration\"] = auto_imports_strings[4]\n",
    "new_data[\"num-of-doors\"] = auto_imports_strings[5]\n",
    "new_data[\"body-style\"] = auto_imports_strings[6]\n",
    "new_data[\"drive-wheels\"] = auto_imports_strings[7]\n",
    "new_data[\"engine-location\"] = auto_imports_strings[8]\n",
    "new_data[\"engine-type\"] = auto_imports_strings[14]\n",
    "new_data[\"num-of-cylinders\"] = auto_imports_strings[15]\n",
    "new_data[\"fuel-system\"] = auto_imports_strings[17]\n",
    "\n",
    "\n",
    "print(new_data.head())"
   ]
  },
  {
   "cell_type": "code",
   "execution_count": 69,
   "metadata": {},
   "outputs": [],
   "source": [
    "# Convert the new dataframe to csv and stored in input folder\n",
    "new_data.to_csv(\"../input/processed_data.csv\", index=False)"
   ]
  }
 ],
 "metadata": {
  "interpreter": {
   "hash": "aee8b7b246df8f9039afb4144a1f6fd8d2ca17a180786b69acc140d282b71a49"
  },
  "kernelspec": {
   "display_name": "Python 3.10.4 64-bit",
   "language": "python",
   "name": "python3"
  },
  "language_info": {
   "codemirror_mode": {
    "name": "ipython",
    "version": 3
   },
   "file_extension": ".py",
   "mimetype": "text/x-python",
   "name": "python",
   "nbconvert_exporter": "python",
   "pygments_lexer": "ipython3",
   "version": "3.10.4"
  },
  "orig_nbformat": 4
 },
 "nbformat": 4,
 "nbformat_minor": 2
}
